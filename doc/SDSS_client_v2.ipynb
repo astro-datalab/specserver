{
 "cells": [
  {
   "cell_type": "code",
   "execution_count": 1,
   "metadata": {},
   "outputs": [],
   "source": [
    "__author__ = 'Mike Fitzpatrick <fitz@noao.edu>'\n",
    "__version__ = '20200925'\n",
    "__keywords__ = ['spectra','query','vospace','mydb']"
   ]
  },
  {
   "cell_type": "markdown",
   "metadata": {},
   "source": [
    "# How to use the Spectrum Data Services"
   ]
  },
  {
   "cell_type": "markdown",
   "metadata": {},
   "source": [
    "### Table of contents\n",
    "* [Summary](#summary)\n",
    "* [Disclaimer & attribution](#attribution)\n",
    "* [Imports & setup](#imports)\n",
    "* [Review: General template for a simple query in SQL](#review)\n",
    "* [Quick Example Query](#query)"
   ]
  },
  {
   "cell_type": "markdown",
   "metadata": {},
   "source": [
    "<a class=\"anchor\" id=\"summary\"></a>\n",
    "# Summary\n",
    "\n",
    "This notebook documents how to query, retrieve and visualize spectra from the NOIRLab spectral data service. For full documentation see the <a href=\"https://datalab.noao.edu/docs/api/specClient.html\">API documentation</a>.\n",
    "\n",
    "\n",
    "### The *specClient* class\n",
    "\n",
    "\n",
    "The specClient API provides the following methods:\n",
    "\n",
    "        client = getClient  (context='<context>', profile='<profile>')\n",
    "\n",
    "          status = isAlive  (svc_url=DEF_SERVICE_URL, timeout=2)\n",
    "\n",
    "               set_svc_url  (svc_url)\n",
    "     svc_url = get_svc_url  ()\n",
    "\n",
    "               set_context  (context)\n",
    "         ctx = get_context  ()\n",
    "      ctxs = list_contexts  (optval, token=None, contexts=None, fmt='text')\n",
    "      ctxs = list_contexts  (token=None, contexts=None, fmt='text')\n",
    "\n",
    "               set_profile  (profile)\n",
    "        prof = get_profile  ()\n",
    "     profs = list_profiles  (optval, token=None, profile=None, fmt='text')\n",
    "     profs = list_profiles  (token=None, profile=None, fmt='text')\n",
    "\n",
    "           svcs = services  (name=None, fmt=None, profile='default')\n",
    "\n",
    "    QUERY INTERFACE:\n",
    "            id_list = query (<region> | <coord, size> | <ra, dec, size>,\n",
    "                             constraint=<sql_where_clause>,\n",
    "                             context='default', profile='default', **kw)\n",
    "\n",
    "    ACCESS INTERFACE:\n",
    "            list = getSpec  (id_list, fmt='numpy',\n",
    "                             out=None, align=False, cutout=None,\n",
    "                             context='default', profile='default', **kw)\n",
    "\n",
    "    PLOT  INTERFACE:\n",
    "                      plot  (spec, context=context, profile=profile, **kw)\n",
    "         status = prospect  (spec, context=context, profile=profile, **kw)\n",
    "           image = preview  (id, context=context, profile=profile, **kw)\n",
    "          image = plotGrid  (id_list, nx, ny, page=<N>,\n",
    "                             context=context, profile=profile, **kw)\n",
    "      image = stackedImage  (id_list, fmt='png|numpy',\n",
    "                             align=False, yflip=False,\n",
    "                             context=context, profile=profile, **kw)\n",
    "\n",
    "#### Spectrum Identifiers \n",
    "\n",
    "#### Identifier Lists\n",
    "\n",
    "#### Output Formats\n",
    "The results can be returned as whitespace delimited (*ascii*), CSV (*csv*), FITS object (*fits*), HDF5 (*hdf5*), or in VOTable format (*votable*). Note that if the results are saved to the user's database then the output format is ignored.\n",
    "\n",
    "#### Saving Results\n",
    "If no save location is specified (no *out* param) then the results are returned directly. A save location beginning with the 'vos://' identifier indicates a location in the user's virtual storage to save the result. A save location beginning with the 'mydb://' identifier indicates the results are to be saved to a table in the user's remote database (MyDB). \n",
    "\n",
    "\n",
    "### From Python code\n",
    "\n",
    "The spectrum client service can be called from Python code using the *datalab* module. This provides methods to access the various query client functions in the *specClient* subpackage. See the information [here](https://github.com/noaodatalab/datalab/blob/master/README.md).\n",
    "\n",
    "Spectrum commands can be also run from the command line, e.g. on your local machine, using the datalab command line utility. Read about it in our GitHub repo [here](https://github.com/noaodatalab/datalab).\n"
   ]
  },
  {
   "cell_type": "markdown",
   "metadata": {},
   "source": [
    "<a class=\"anchor\" id=\"attribution\"></a>\n",
    "# Disclaimer & attribution\n",
    "If you use this notebook for your published science, please acknowledge the following:\n",
    "\n",
    "* Data Lab concept paper: Fitzpatrick et al., \"The NOAO Data Laboratory: a conceptual overview\", SPIE, 9149, 2014, http://dx.doi.org/10.1117/12.2057445\n",
    "\n",
    "* Data Lab disclaimer: https://datalab.noao.edu/disclaimers.php"
   ]
  },
  {
   "cell_type": "markdown",
   "metadata": {},
   "source": [
    "<a class=\"anchor\" id=\"imports\"></a>\n",
    "# Imports and setup\n",
    "\n",
    "This is the setup that is required to use the query client. The first thing to do is import the relevant Python modules."
   ]
  },
  {
   "cell_type": "code",
   "execution_count": null,
   "metadata": {},
   "outputs": [],
   "source": [
    "# Standard libs\n",
    "from getpass import getpass               # for password prompts\n",
    "\n",
    "import os\n",
    "import numpy as np                        # for manipulating arrays\n",
    "import pandas as pd\n",
    "from specutils import Spectrum1D\n",
    "\n",
    "from io import BytesIO\n",
    "from astropy import units as u\n",
    "from astropy.visualization import quantity_support\n",
    "from astropy.coordinates import SkyCoord\n",
    "\n",
    "from matplotlib import pyplot as plt      # visualization libs\n",
    "%matplotlib notebook\n",
    "\n",
    "# Data Lab imports\n",
    "#from dl import specClient as spc\n",
    "import specClient as spc\n",
    "from dl import storeClient as sc\n",
    "from dl import queryClient as qc\n",
    "from dl import authClient as ac\n",
    "from dl.helpers.utils import convert"
   ]
  },
  {
   "cell_type": "code",
   "execution_count": null,
   "metadata": {},
   "outputs": [],
   "source": [
    "# Global vars for test data\n",
    "svc_base = \"http://gp06.datalab.noao.edu:6999\"\n",
    "svc_base = 'http://localhost:6999'\n",
    "\n",
    "# Default test single-spectrum\n",
    "release  = 'dr16'\n",
    "specobjid = 2210146812474530816\n",
    "plate, mjd, fiber, run2d = 1963, 54331, 19, 103\n",
    "bands    = 'flux,loglam,model,ivar'\n",
    "\n",
    "# Local laptop test data (15,360 files)\n",
    "# RUN2D = 103, 22 plates/mjd, 640 fibers each\n",
    "plates = [1960, 1961, 1962, 1963, 2078, 2079, 2174, 2185, 2247, 2255, 2256, \n",
    "          2333, 2338, 2377, 2475, 2476, 2667, 2671, 2800, 2821, 2887, 2912]\n",
    "mjd = [53289, 53299, 53321, 54331, 53378, 53379, 53521, 53532, 53857,\n",
    "       54169, 53565, 53859, 53682, 53683, 53991, 53845, 53826, 54142,\n",
    "       54141, 54326, 54393, 54495, 54521, 54499]\n",
    "plt_mjd = list(zip(plates,mjd))"
   ]
  },
  {
   "cell_type": "markdown",
   "metadata": {},
   "source": [
    "# Authentication\n",
    "Much of the functionality of spectrum services can be accessed without explicitly logging into Data (the service then uses an anonymous login). But some capacities, for instance saving the results of your queries to your virtual storage space, require a login (i.e. you will need a registered user account).\n",
    "\n",
    "If you need to log in to Data Lab, issue this command, and respond according to the instructions:"
   ]
  },
  {
   "cell_type": "code",
   "execution_count": null,
   "metadata": {},
   "outputs": [],
   "source": [
    "#ac.login(input(\"Enter user name: (+ENTER) \"),getpass(\"Enter password: (+ENTER) \"))\n",
    "ac.whoAmI()"
   ]
  },
  {
   "cell_type": "markdown",
   "metadata": {},
   "source": [
    "# Query for Spectra"
   ]
  },
  {
   "cell_type": "markdown",
   "metadata": {},
   "source": [
    "#### 1) FInd spectra in a cone around a specific (RA,Dec) position:\n",
    "\n",
    "The *query()* method can be called by passing the RA, Dec and a search size (in decimal degrees)."
   ]
  },
  {
   "cell_type": "code",
   "execution_count": null,
   "metadata": {},
   "outputs": [],
   "source": [
    "# RA/Dec query\n",
    "id_list = spec.query(30.0, 1.0, SIZE, context='sdss',out=''))"
   ]
  },
  {
   "cell_type": "markdown",
   "metadata": {},
   "source": [
    "#### 2) Find spectra using an Astropy *SkyCoord* object to specify posuition."
   ]
  },
  {
   "cell_type": "code",
   "execution_count": null,
   "metadata": {},
   "outputs": [],
   "source": [
    "# Astropy SkyCoord objects can be created in a number of ways:\n",
    "posn = [ SkyCoord(ra=30.0*u.degree, dec=1.0*u.degree, frame='icrs'),   # explicit RA,Dec using units\n",
    "         SkyCoord(ra=30.0, dec=1.0, frame='icrs', unit='deg'),\n",
    "         SkyCoord('2h0m0.0s +1d0m0s', frame='icrs')                    # sexagesimal position\n",
    "       ]\n",
    "\n",
    "for p in posn:\n",
    "    print(spec.query(p, SIZE, context='sdss')\n",
    "    print('-------')"
   ]
  },
  {
   "cell_type": "code",
   "execution_count": null,
   "metadata": {},
   "outputs": [],
   "source": [
    "# Region query\n",
    "print('######  Region query')\n",
    "region = [29.95,0.95, 30.05,0.95, 30.05,1.05, 29.95,1.05]\n",
    "print(spec.query(region, context='sdss',out='', debug=DEBUG))\n",
    "\n",
    "\n",
    "# #################################\n",
    "# Constraint tests\n",
    "# #################################\n",
    "\n",
    "print('##############  Constraint tests  ##############')\n",
    "print(spec.query(30.0,1.0,0.05,\n",
    "                 context='sdss',out='',\n",
    "                 constraint='z > 0.2 order by z',\n",
    "                 debug=DEBUG))\n",
    "\n",
    "\n",
    "\n",
    "# #################################\n",
    "# Output option tests\n",
    "# #################################\n",
    "\n",
    "print('##############  Output tests  ##############')\n",
    "print('######  Output to stdout')\n",
    "print(spec.query(30.0,1.0,0.05,\n",
    "                 out='',\n",
    "                 context='sdss', debug=DEBUG))\n",
    "\n",
    "print('######  Output to local file')\n",
    "fname = '/tmp/test.id'\n",
    "\n",
    "if os.path.exists(fname): \n",
    "    os.remove(fname)\n",
    "\n",
    "print(spec.query(30.0,1.0,0.05,\n",
    "                 out=fname,\n",
    "                 context='sdss', debug=DEBUG))\n",
    "\n",
    "if os.path.exists(fname): \n",
    "    print('Local file:  SUCCESS')\n",
    "    os.remove(fname)\n",
    "else:\n",
    "    print('Local file:  FAILED')\n",
    "\n",
    "\n",
    "print('######  Output to VOS file')\n",
    "fname = 'vos://test.id'\n",
    "\n",
    "if sc.access(fname): \n",
    "    os.remove(fname)\n",
    "\n",
    "print(spec.query(30.0,1.0,0.05,\n",
    "                 out=fname,\n",
    "                 context='sdss', debug=DEBUG))\n",
    "\n",
    "if sc.access(fname): \n",
    "    print('VOS file:  SUCCESS')\n",
    "    sc.rm(fname)\n",
    "else:\n",
    "    print('VOS file:  FAILED')"
   ]
  },
  {
   "cell_type": "markdown",
   "metadata": {},
   "source": [
    "### Single-Spectrum client"
   ]
  },
  {
   "cell_type": "code",
   "execution_count": null,
   "metadata": {},
   "outputs": [],
   "source": [
    "def getSpec (release, run2d, plate, mjd, fiber, bands):\n",
    "    '''Utility to get a spectrum from the NPY save files. \n",
    "    '''\n",
    "    url = svc_base + \"/coadd?release=%s&run2d=%d&plate=%d&mjd=%d&fiber=%d&bands=%s\" % \\\n",
    "        (release, run2d, plate, mjd, fiber, bands)\n",
    "    try:\n",
    "        r = requests.get (url, timeout=2)\n",
    "    except Exception as e:\n",
    "        raise Exception(\"Error getting data: \" + str(e))\n",
    "    else:\n",
    "        return np.load(BytesIO(r.content), allow_pickle=False)"
   ]
  },
  {
   "cell_type": "code",
   "execution_count": null,
   "metadata": {
    "scrolled": false
   },
   "outputs": [],
   "source": [
    "%%time\n",
    "\n",
    "npy_data = getSpec(release,run2d,plate,mjd,fiber,bands)\n",
    "if npy_data is None:\n",
    "    print ('Error: None data')\n",
    "else:\n",
    "    print ('Data:  len = ' + str(len(npy_data)) + '  shape: ' + str(npy_data.shape))\n",
    "    print ('Names: ' + str(npy_data.dtype.names))\n",
    "    #print (npy_data)"
   ]
  },
  {
   "cell_type": "markdown",
   "metadata": {},
   "source": [
    "### Specutils"
   ]
  },
  {
   "cell_type": "code",
   "execution_count": null,
   "metadata": {},
   "outputs": [],
   "source": [
    "def to_Spectrum1D (npy_data):\n",
    "    ''' Convert a Numpy spectrum array to a Spectrum1D object.\n",
    "    '''\n",
    "    lamb = 10**npy_data['loglam'] * u.AA \n",
    "    flux = npy_data['flux'] * 10**-17 * u.Unit('erg cm-2 s-1 AA-1')\n",
    "\n",
    "    return Spectrum1D(spectral_axis=lamb, flux=flux)"
   ]
  },
  {
   "cell_type": "code",
   "execution_count": null,
   "metadata": {
    "scrolled": true
   },
   "outputs": [],
   "source": [
    "spec1d = to_Spectrum1D(npy_data)"
   ]
  },
  {
   "cell_type": "markdown",
   "metadata": {},
   "source": [
    "### Pandas Data Frame"
   ]
  },
  {
   "cell_type": "code",
   "execution_count": null,
   "metadata": {},
   "outputs": [],
   "source": [
    "def to_pandas (npy_data):\n",
    "    return pd.DataFrame(data=npy_data,columns=npy_data.dtype.names)"
   ]
  },
  {
   "cell_type": "code",
   "execution_count": null,
   "metadata": {},
   "outputs": [],
   "source": [
    "df = to_pandas(npy_data)"
   ]
  },
  {
   "cell_type": "markdown",
   "metadata": {},
   "source": [
    "### Plot Utilities"
   ]
  },
  {
   "cell_type": "code",
   "execution_count": null,
   "metadata": {},
   "outputs": [],
   "source": [
    "def plotSpec (spec):\n",
    "    '''\n",
    "    '''\n",
    "    f, ax = plt.subplots() \n",
    "    if isinstance (spec, np.ndarray):\n",
    "        ax.step(10**df['loglam'], df['flux']) \n",
    "    elif isinstance (spec, pd.DataFrame):\n",
    "        ax.step(10**df['loglam'], df['flux']) \n",
    "    elif isinstance (spec, Spectrum1D):\n",
    "        ax.step(spec.spectral_axis, spec.flux)\n",
    "    else:\n",
    "        raise Exception('Unknown format: ' + str(type(spec)))"
   ]
  },
  {
   "cell_type": "code",
   "execution_count": null,
   "metadata": {
    "scrolled": true
   },
   "outputs": [],
   "source": [
    "plotSpec (npy_data)     # Numpy array\n",
    "plotSpec (spec1d)       # Spectrum1D\n",
    "plotSpec (df)"
   ]
  },
  {
   "cell_type": "code",
   "execution_count": null,
   "metadata": {},
   "outputs": [],
   "source": [
    "import numpy as np\n",
    "x = np.linspace(0, 10, 100)\n",
    "\n",
    "fig = plt.figure()\n",
    "plt.plot(x, np.sin(x), '-')\n",
    "plt.plot(x, np.cos(x), '--');\n",
    "plt.plot(x, np.sin(x)+np.cos(x), '+');"
   ]
  },
  {
   "cell_type": "code",
   "execution_count": null,
   "metadata": {},
   "outputs": [],
   "source": []
  }
 ],
 "metadata": {
  "kernelspec": {
   "display_name": "Python 3",
   "language": "python",
   "name": "python3"
  },
  "language_info": {
   "codemirror_mode": {
    "name": "ipython",
    "version": 3
   },
   "file_extension": ".py",
   "mimetype": "text/x-python",
   "name": "python",
   "nbconvert_exporter": "python",
   "pygments_lexer": "ipython3",
   "version": "3.7.6"
  }
 },
 "nbformat": 4,
 "nbformat_minor": 2
}
